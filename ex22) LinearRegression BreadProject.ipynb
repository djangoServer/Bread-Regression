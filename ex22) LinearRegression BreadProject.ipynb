{
 "cells": [
  {
   "cell_type": "markdown",
   "metadata": {},
   "source": [
    "# 기존의 빵 판매량을 이용하여 추후 판매량을 예측하는 프로그램"
   ]
  },
  {
   "cell_type": "markdown",
   "metadata": {},
   "source": [
    "## 작업처리 순서\n",
    "- 데이터가 정리된 빵 판매량 파일을 로드\n",
    "- 빵 판매량 파일에서 트레이닝 데이터를 추출\n",
    "- 추출한 트레이닝 데이터를 이용해 모델링 진행\n",
    "- 빵 판매량 파일에서 테스트 데이터를 추출\n",
    "- 모델링 검증\n",
    "- 데이터 시각화\n",
    "\n",
    "## 모델링 조건\n",
    "- 트레이닝 데이터 : 테스트 데이터 = 70 : 30\n",
    "\n",
    "## 데이터 정보\n",
    "- 실제로 영업하면서 쓰인 데이터를 이용함 [다운로드 링크](https://drive.google.com/open?id=0Byo6yQd8LvDzVFVyUjZsVjhMaWc)"
   ]
  },
  {
   "cell_type": "code",
   "execution_count": 8,
   "metadata": {
    "collapsed": false
   },
   "outputs": [],
   "source": [
    "%matplotlib inline\n",
    "from __future__ import print_function\n",
    "import matplotlib.pyplot as plt\n",
    "import numpy as np\n",
    "from sklearn import linear_model\n",
    "import pandas as pd"
   ]
  },
  {
   "cell_type": "markdown",
   "metadata": {},
   "source": [
    "필요한 모듈 임포트"
   ]
  },
  {
   "cell_type": "code",
   "execution_count": 9,
   "metadata": {
    "collapsed": true
   },
   "outputs": [],
   "source": [
    "productSellData = pd.read_csv(\"productSell.csv\", index_col=0)"
   ]
  },
  {
   "cell_type": "markdown",
   "metadata": {},
   "source": [
    "판매량을 정리한 csv파일을 불러온다"
   ]
  },
  {
   "cell_type": "code",
   "execution_count": 10,
   "metadata": {
    "collapsed": false
   },
   "outputs": [
    {
     "name": "stdout",
     "output_type": "stream",
     "text": [
      "* productSellData.head()\n",
      "             productSell  expectProductSell  year  month  day  dayOfTheWeek  \\\n",
      "productCode                                                                   \n",
      "312701                43                NaN  2016     11    1             3   \n",
      "312701                49                NaN  2016     11    2             4   \n",
      "312701                52                NaN  2016     11    3             5   \n",
      "312701                45                NaN  2016     11    4             6   \n",
      "312701                57                NaN  2016     11    5             7   \n",
      "\n",
      "             week  \n",
      "productCode        \n",
      "312701          1  \n",
      "312701          1  \n",
      "312701          1  \n",
      "312701          1  \n",
      "312701          1  \n",
      "\n"
     ]
    }
   ],
   "source": [
    "print(\"* productSellData.head()\", productSellData.head(), sep=\"\\n\", end=\"\\n\\n\")"
   ]
  },
  {
   "cell_type": "markdown",
   "metadata": {},
   "source": [
    "빵 판매량이 기록된 전체 데이터가 잘 불러왔는지 테스트 할 겸 윗부분만 출력"
   ]
  },
  {
   "cell_type": "code",
   "execution_count": 11,
   "metadata": {
    "collapsed": false
   },
   "outputs": [
    {
     "name": "stdout",
     "output_type": "stream",
     "text": [
      "* productSellData.tail()\n",
      "             productSell  expectProductSell  year  month  day  dayOfTheWeek  \\\n",
      "productCode                                                                   \n",
      "312708                26                NaN  2017      1   27             6   \n",
      "312708                 0                NaN  2017      1   28             7   \n",
      "312708                 0                NaN  2017      1   29             1   \n",
      "312708                 5                NaN  2017      1   30             2   \n",
      "312708                31                NaN  2017      1   31             3   \n",
      "\n",
      "             week  \n",
      "productCode        \n",
      "312708         13  \n",
      "312708         13  \n",
      "312708         14  \n",
      "312708         14  \n",
      "312708         14  \n",
      "\n"
     ]
    }
   ],
   "source": [
    "print(\"* productSellData.tail()\", productSellData.tail(), sep=\"\\n\", end=\"\\n\\n\")"
   ]
  },
  {
   "cell_type": "markdown",
   "metadata": {},
   "source": [
    "빵 판매량이 기록된 전체 데이터가 잘 불러왔는지 테스트 할 겸 아랫부분만 출력"
   ]
  },
  {
   "cell_type": "code",
   "execution_count": 21,
   "metadata": {
    "collapsed": true
   },
   "outputs": [],
   "source": [
    "XcoordinateTrainData = productSellData[\"productSell\"]\n",
    "XcoordinateTrainData = XcoordinateTrainData[:26]"
   ]
  },
  {
   "cell_type": "markdown",
   "metadata": {},
   "source": [
    "- 트레이닝에 쓰일 데이터 중 컬럼이 판매량(productSell)인것만 로드\n",
    "- 로드할 때 우리 프로젝트의 트레이닝 조건인 4주차까지만 알고리즘을 적용한다는 내용을 감안하여 26열까지만 사용\n",
    "- 로드한 데이터를 모델의 독립 변수로 적용"
   ]
  },
  {
   "cell_type": "code",
   "execution_count": 22,
   "metadata": {
    "collapsed": false
   },
   "outputs": [
    {
     "name": "stdout",
     "output_type": "stream",
     "text": [
      "* XcoordinateTrainData.head()\n",
      "productCode\n",
      "312701    43\n",
      "312701    49\n",
      "312701    52\n",
      "312701    45\n",
      "312701    57\n",
      "Name: productSell, dtype: int64\n",
      "\n"
     ]
    }
   ],
   "source": [
    "print(\"* XcoordinateTrainData.head()\", XcoordinateTrainData.head(), sep=\"\\n\", end=\"\\n\\n\")"
   ]
  },
  {
   "cell_type": "markdown",
   "metadata": {},
   "source": [
    "독립변수로 쓰일 데이터(productSell)이 잘 불러와졌는지 윗부분만 테스트 출력"
   ]
  },
  {
   "cell_type": "code",
   "execution_count": 23,
   "metadata": {
    "collapsed": false
   },
   "outputs": [
    {
     "name": "stdout",
     "output_type": "stream",
     "text": [
      "* XcoordinateTrainData.tail()\n",
      "productCode\n",
      "312701    66\n",
      "312701    67\n",
      "312701    54\n",
      "312701    49\n",
      "312701    57\n",
      "Name: productSell, dtype: int64\n",
      "\n"
     ]
    }
   ],
   "source": [
    "print(\"* XcoordinateTrainData.tail()\", XcoordinateTrainData.tail(), sep=\"\\n\", end=\"\\n\\n\")"
   ]
  },
  {
   "cell_type": "markdown",
   "metadata": {},
   "source": [
    "독립변수로 쓰일 데이터(productSell)이 잘 불러와졌는지 아랫부분만 테스트 출력"
   ]
  },
  {
   "cell_type": "code",
   "execution_count": 24,
   "metadata": {
    "collapsed": true
   },
   "outputs": [],
   "source": [
    "YcoordinateTrainData = productSellData[\"day\"]\n",
    "YcoordinateTrainData = YcoordinateTrainData[:26]"
   ]
  },
  {
   "cell_type": "markdown",
   "metadata": {},
   "source": [
    "- 트레이닝에 쓰일 데이터 중 컬럼이 일(day)인것만 로드\n",
    "- 로드할 때 우리 프로젝트의 트레이닝 조건인 4주차까지만 알고리즘을 적용한다는 내용을 감안하여 26열까지만 사용\n",
    "- 로드한 데이터를 모델의 종속 변수로 적용"
   ]
  },
  {
   "cell_type": "code",
   "execution_count": 25,
   "metadata": {
    "collapsed": false
   },
   "outputs": [
    {
     "name": "stdout",
     "output_type": "stream",
     "text": [
      "* YcoordinateTrainData.head()\n",
      "productCode\n",
      "312701    1\n",
      "312701    2\n",
      "312701    3\n",
      "312701    4\n",
      "312701    5\n",
      "Name: day, dtype: int64\n",
      "\n"
     ]
    }
   ],
   "source": [
    "print(\"* YcoordinateTrainData.head()\", YcoordinateTrainData.head(), sep=\"\\n\", end=\"\\n\\n\")"
   ]
  },
  {
   "cell_type": "markdown",
   "metadata": {},
   "source": [
    "종속변수로 쓰일 데이터(day)가 잘 불러와졌는지 윗부분만 테스트 출력"
   ]
  },
  {
   "cell_type": "code",
   "execution_count": 26,
   "metadata": {
    "collapsed": false
   },
   "outputs": [
    {
     "name": "stdout",
     "output_type": "stream",
     "text": [
      "* YcoordinateTrainData.tail()\n",
      "productCode\n",
      "312701    22\n",
      "312701    23\n",
      "312701    24\n",
      "312701    25\n",
      "312701    26\n",
      "Name: day, dtype: int64\n",
      "\n"
     ]
    }
   ],
   "source": [
    "print(\"* YcoordinateTrainData.tail()\", YcoordinateTrainData.tail(), sep=\"\\n\", end=\"\\n\\n\")"
   ]
  },
  {
   "cell_type": "markdown",
   "metadata": {},
   "source": [
    "종속변수로 쓰일 데이터(day)가 잘 불러와졌는지 아랫부분만 테스트 출력"
   ]
  },
  {
   "cell_type": "code",
   "execution_count": 27,
   "metadata": {
    "collapsed": true
   },
   "outputs": [],
   "source": [
    "regressionModel = linear_model.LinearRegression()"
   ]
  },
  {
   "cell_type": "markdown",
   "metadata": {},
   "source": [
    "모델링할 객체 생성"
   ]
  },
  {
   "cell_type": "code",
   "execution_count": 29,
   "metadata": {
    "collapsed": false
   },
   "outputs": [
    {
     "data": {
      "text/plain": [
       "LinearRegression(copy_X=True, fit_intercept=True, n_jobs=1, normalize=False)"
      ]
     },
     "execution_count": 29,
     "metadata": {},
     "output_type": "execute_result"
    }
   ],
   "source": [
    "regressionModel.fit(XcoordinateTrainData.to_frame(), YcoordinateTrainData.to_frame())"
   ]
  },
  {
   "cell_type": "markdown",
   "metadata": {},
   "source": [
    "- 정확도를 최대치로 하는 회귀분석을 진행\n",
    "- 진행 시 들어간 데이터로는 트레이닝용 독립변수 판매량(productSell), 종속변수 일(day)가 들어감"
   ]
  },
  {
   "cell_type": "code",
   "execution_count": 30,
   "metadata": {
    "collapsed": false
   },
   "outputs": [
    {
     "name": "stdout",
     "output_type": "stream",
     "text": [
      "Coefficients: \n",
      " [[ 0.21408458]]\n"
     ]
    }
   ],
   "source": [
    "print('Coefficients: \\n', regressionModel.coef_)"
   ]
  },
  {
   "cell_type": "markdown",
   "metadata": {},
   "source": [
    "모델링 진행 후 계수가 잘 구해졌는지 출력"
   ]
  },
  {
   "cell_type": "code",
   "execution_count": 37,
   "metadata": {
    "collapsed": true
   },
   "outputs": [],
   "source": [
    "XcoordinateTestData = productSellData[\"productSell\"]\n",
    "XcoordinateTestData = XcoordinateTestData[30:38]"
   ]
  },
  {
   "cell_type": "markdown",
   "metadata": {},
   "source": [
    "- 테스트에 쓰일 데이터 중 컬럼이 판매량(productSell)인것만 로드\n",
    "- 로드할 때 우리 프로젝트의 테스트 조건인 70:30을 감안하여 트레이닝할때 쓰인 데이터 갯수가 26개라면 테스트 데이터 갯수는 7개로 지정\n",
    "- 로드한 데이터를 테스트의 독립 변수로 적용"
   ]
  },
  {
   "cell_type": "code",
   "execution_count": 38,
   "metadata": {
    "collapsed": false
   },
   "outputs": [
    {
     "name": "stdout",
     "output_type": "stream",
     "text": [
      "* XcoordinateTestData.head()\n",
      "productCode\n",
      "312701    47\n",
      "312701    38\n",
      "312701    57\n",
      "312701    28\n",
      "312701    63\n",
      "Name: productSell, dtype: int64\n",
      "\n"
     ]
    }
   ],
   "source": [
    "print(\"* XcoordinateTestData.head()\", XcoordinateTestData.head(), sep=\"\\n\", end=\"\\n\\n\")"
   ]
  },
  {
   "cell_type": "markdown",
   "metadata": {},
   "source": [
    "독립변수로 쓰일 데이터(productSell)이 잘 불러와졌는지 윗부분만 테스트 출력"
   ]
  },
  {
   "cell_type": "code",
   "execution_count": 39,
   "metadata": {
    "collapsed": false
   },
   "outputs": [
    {
     "name": "stdout",
     "output_type": "stream",
     "text": [
      "* XcoordinateTestData.tail()\n",
      "productCode\n",
      "312701    28\n",
      "312701    63\n",
      "312701    56\n",
      "312701    43\n",
      "312701    56\n",
      "Name: productSell, dtype: int64\n",
      "\n"
     ]
    }
   ],
   "source": [
    "print(\"* XcoordinateTestData.tail()\", XcoordinateTestData.tail(), sep=\"\\n\", end=\"\\n\\n\")"
   ]
  },
  {
   "cell_type": "markdown",
   "metadata": {},
   "source": [
    "독립변수로 쓰일 데이터(productSell)이 잘 불러와졌는지 아랫부분만 테스트 출력"
   ]
  },
  {
   "cell_type": "code",
   "execution_count": 40,
   "metadata": {
    "collapsed": true
   },
   "outputs": [],
   "source": [
    "YcoordinateTestData = productSellData[\"day\"]\n",
    "YcoordinateTestData = YcoordinateTestData[30:38]"
   ]
  },
  {
   "cell_type": "markdown",
   "metadata": {},
   "source": [
    "- 테스트에 쓰일 데이터 중 컬럼이 일(day)인것만 로드\n",
    "- 로드할 때 우리 프로젝트의 테스트 조건인 70:30을 감안하여 트레이닝할때 쓰인 데이터 갯수가 26개라면 테스트 데이터 갯수는 7개로 지정\n",
    "- 로드한 데이터를 테스트의 종속 변수로 적용"
   ]
  },
  {
   "cell_type": "code",
   "execution_count": 41,
   "metadata": {
    "collapsed": false
   },
   "outputs": [
    {
     "name": "stdout",
     "output_type": "stream",
     "text": [
      "* YcoordinateTestData.head()\n",
      "productCode\n",
      "312701    1\n",
      "312701    2\n",
      "312701    3\n",
      "312701    4\n",
      "312701    5\n",
      "Name: day, dtype: int64\n",
      "\n"
     ]
    }
   ],
   "source": [
    "print(\"* YcoordinateTestData.head()\", YcoordinateTestData.head(), sep=\"\\n\", end=\"\\n\\n\")"
   ]
  },
  {
   "cell_type": "markdown",
   "metadata": {},
   "source": [
    "종속변수로 쓰일 데이터(day)가 잘 불러와졌는지 윗부분만 테스트 출력"
   ]
  },
  {
   "cell_type": "code",
   "execution_count": 42,
   "metadata": {
    "collapsed": false
   },
   "outputs": [
    {
     "name": "stdout",
     "output_type": "stream",
     "text": [
      "* YcoordinateTestData.tail()\n",
      "productCode\n",
      "312701    4\n",
      "312701    5\n",
      "312701    6\n",
      "312701    7\n",
      "312701    8\n",
      "Name: day, dtype: int64\n",
      "\n"
     ]
    }
   ],
   "source": [
    "print(\"* YcoordinateTestData.tail()\", YcoordinateTestData.tail(), sep=\"\\n\", end=\"\\n\\n\")"
   ]
  },
  {
   "cell_type": "markdown",
   "metadata": {},
   "source": [
    "종속변수로 쓰일 데이터(day)가 잘 불러와졌는지 아랫부분만 테스트 출력"
   ]
  },
  {
   "cell_type": "code",
   "execution_count": 44,
   "metadata": {
    "collapsed": false
   },
   "outputs": [
    {
     "name": "stdout",
     "output_type": "stream",
     "text": [
      "Mean squared error: 78.07\n"
     ]
    }
   ],
   "source": [
    "print(\"Mean squared error: %.2f\"\n",
    "      % np.mean((regressionModel.predict(XcoordinateTestData.to_frame()) - YcoordinateTestData.to_frame()) ** 2))"
   ]
  },
  {
   "cell_type": "markdown",
   "metadata": {},
   "source": [
    "실제로 예상판매량을 계산해 봄으로써 나온 결과값들을 이용해 평균 제곱근 편차를 구함"
   ]
  },
  {
   "cell_type": "code",
   "execution_count": 45,
   "metadata": {
    "collapsed": false
   },
   "outputs": [
    {
     "name": "stdout",
     "output_type": "stream",
     "text": [
      "Variance score: -13.87\n"
     ]
    }
   ],
   "source": [
    "print('Variance score: %.2f' % regressionModel.score(XcoordinateTestData.to_frame(), YcoordinateTestData.to_frame()))"
   ]
  },
  {
   "cell_type": "markdown",
   "metadata": {},
   "source": [
    "또한 회귀직선을 구하여 해당 그래프와 데이터들간의 분산 값을 구함"
   ]
  },
  {
   "cell_type": "code",
   "execution_count": 46,
   "metadata": {
    "collapsed": false
   },
   "outputs": [
    {
     "data": {
      "text/plain": [
       "<matplotlib.collections.PathCollection at 0x11245f050>"
      ]
     },
     "execution_count": 46,
     "metadata": {},
     "output_type": "execute_result"
    },
    {
     "name": "stderr",
     "output_type": "stream",
     "text": [
      "/System/Library/Frameworks/Python.framework/Versions/2.7/Extras/lib/python/matplotlib/collections.py:548: FutureWarning: elementwise comparison failed; returning scalar instead, but in the future will perform elementwise comparison\n",
      "  if self._edgecolors == 'face':\n"
     ]
    },
    {
     "data": {
      "image/png": "[encoded data removed]",
      "text/plain": [
       "<matplotlib.figure.Figure at 0x11234bfd0>"
      ]
     },
     "metadata": {},
     "output_type": "display_data"
    }
   ],
   "source": [
    "plt.scatter(XcoordinateTestData, YcoordinateTestData,  color='black')"
   ]
  },
  {
   "cell_type": "markdown",
   "metadata": {},
   "source": [
    "테스트 데이터 시각화"
   ]
  },
  {
   "cell_type": "code",
   "execution_count": 48,
   "metadata": {
    "collapsed": false
   },
   "outputs": [
    {
     "data": {
      "text/plain": [
       "[<matplotlib.lines.Line2D at 0x112539c90>]"
      ]
     },
     "execution_count": 48,
     "metadata": {},
     "output_type": "execute_result"
    },
    {
     "data": {
      "image/png": "[encoded data removed]",
      "text/plain": [
       "<matplotlib.figure.Figure at 0x1123cd190>"
      ]
     },
     "metadata": {},
     "output_type": "display_data"
    }
   ],
   "source": [
    "plt.plot(XcoordinateTestData.to_frame(), regressionModel.predict(XcoordinateTestData.to_frame()), color='blue',\n",
    "         linewidth=3)"
   ]
  },
  {
   "cell_type": "markdown",
   "metadata": {},
   "source": [
    "회귀직선 시각화"
   ]
  }
 ],
 "metadata": {
  "kernelspec": {
   "display_name": "Python 2",
   "language": "python",
   "name": "python2"
  },
  "language_info": {
   "codemirror_mode": {
    "name": "ipython",
    "version": 2
   },
   "file_extension": ".py",
   "mimetype": "text/x-python",
   "name": "python",
   "nbconvert_exporter": "python",
   "pygments_lexer": "ipython2",
   "version": "2.7.10"
  }
 },
 "nbformat": 4,
 "nbformat_minor": 1
}
